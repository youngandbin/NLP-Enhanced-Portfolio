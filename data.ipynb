{
 "cells": [
  {
   "cell_type": "markdown",
   "metadata": {},
   "source": [
    "# data"
   ]
  },
  {
   "cell_type": "code",
   "execution_count": 10,
   "metadata": {},
   "outputs": [],
   "source": [
    "import FinanceDataReader as fdr\n",
    "import numpy as np\n",
    "import pandas as pd\n",
    "np.random.seed(14)\n",
    "\n",
    "import torch\n",
    "import torch.nn as nn\n",
    "from scipy.spatial import distance\n",
    "from sklearn.metrics import pairwise_distances"
   ]
  },
  {
   "cell_type": "code",
   "execution_count": 11,
   "metadata": {},
   "outputs": [],
   "source": [
    "# Loading Data\n",
    "AAPL = fdr.DataReader('AAPL', '2021')\n",
    "GOOGL = fdr.DataReader('GOOGL', '2021')\n",
    "MSFT = fdr.DataReader('MSFT', '2021')\n",
    "NFLX = fdr.DataReader('NFLX', '2021')\n",
    "TSLA = fdr.DataReader('TSLA', '2021')"
   ]
  },
  {
   "cell_type": "code",
   "execution_count": 12,
   "metadata": {},
   "outputs": [],
   "source": [
    "# Making a dataframe for close prices\n",
    "df_close = pd.DataFrame({'AAPL': AAPL['Close'],\n",
    "                         'GOOGL': GOOGL['Close'],\n",
    "                         'MSFT': MSFT['Close'],\n",
    "                         'NFLX': NFLX['Close'],\n",
    "                         'TSLA': TSLA['Close']})\n",
    "# Making a dataframe for log return\n",
    "df_logret = np.log(df_close / df_close.shift(1))\n",
    "df_logret = df_logret.dropna()\n",
    "# calculate mu\n",
    "mu_df = df_logret.mean() * len(df_logret)\n",
    "mu = mu_df.to_numpy()\n"
   ]
  },
  {
   "cell_type": "code",
   "execution_count": 13,
   "metadata": {},
   "outputs": [],
   "source": [
    "# calculate Sigma\n",
    "\n",
    "Sigma_df = df_logret.cov() * len(df_logret)\n",
    "Sigma = Sigma_df.to_numpy()\n"
   ]
  },
  {
   "cell_type": "code",
   "execution_count": 20,
   "metadata": {},
   "outputs": [],
   "source": [
    "# word embeddings (random)\n",
    "\n",
    "word_embeds = np.random.rand(5, 128)"
   ]
  },
  {
   "cell_type": "markdown",
   "metadata": {},
   "source": [
    "# Sigma_embeddings\n",
    "- non-diagonal: 두 주식의 text embedding 사이의 Minkowski distance \n",
    "- diagonal: 주식의 과거 시계열의 분산\n",
    "    - look-back window of 4 months"
   ]
  },
  {
   "cell_type": "code",
   "execution_count": null,
   "metadata": {},
   "outputs": [],
   "source": [
    "class MyModel(nn.Module):\n",
    "\n",
    "    def __init__(self, device, word_embed, lambda_:float, Sigma_original) -> None:\n",
    "        \"\"\"\n",
    "        Args:\n",
    "            word_embed: vector representations of stocks\n",
    "            lambda_: weights between original cov and new cov (hyperparameter)\n",
    "        \"\"\"\n",
    "        super().__init__()\n",
    "        self.device = device\n",
    "        self.word_embed = word_embed\n",
    "        self.lambda_ = lambda_\n",
    "        self.Sigma_original = Sigma_original\n",
    "        self.n = Sigma_original.shape[0] # 주식 개수\n",
    "        self.d = word_embed.shape[1] # 임베딩 차원\n",
    "    \n",
    "    def get_Sigma_embeddings(self):\n",
    "        diagonal = self.Sigma_original.diagonal() # (n x 1)\n",
    "        non_diagonal = pairwise_distances(self.word_embed, metric='minkowski') # (n x n)\n",
    "\n",
    "        self.Sigma_embeddings = np.fill_diagonal(non_diagonal, diagonal)\n",
    "\n",
    "    def get_Sigma_new(self):\n",
    "        return self.lambda_*self.Sigma_original + (1-self.lambda_)*self.Sigma_embeddings\n"
   ]
  },
  {
   "cell_type": "code",
   "execution_count": null,
   "metadata": {},
   "outputs": [],
   "source": []
  }
 ],
 "metadata": {
  "interpreter": {
   "hash": "37194c3c690497ab80e47e07953a810565eabaf73d72714da06e07c6eb322f18"
  },
  "kernelspec": {
   "display_name": "Python 3.8.13 ('DB_GAPS')",
   "language": "python",
   "name": "python3"
  },
  "language_info": {
   "codemirror_mode": {
    "name": "ipython",
    "version": 3
   },
   "file_extension": ".py",
   "mimetype": "text/x-python",
   "name": "python",
   "nbconvert_exporter": "python",
   "pygments_lexer": "ipython3",
   "version": "3.8.13"
  },
  "orig_nbformat": 4
 },
 "nbformat": 4,
 "nbformat_minor": 2
}
